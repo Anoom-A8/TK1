{
 "cells": [
  {
   "cell_type": "markdown",
   "metadata": {},
   "source": [
    "Importing the necessary libraries"
   ]
  },
  {
   "cell_type": "code",
   "execution_count": 18,
   "metadata": {},
   "outputs": [],
   "source": [
    "import numpy as np\n",
    "import pandas as pd\n",
    "from numpy.linalg import norm"
   ]
  },
  {
   "cell_type": "markdown",
   "metadata": {},
   "source": [
    "Functions"
   ]
  },
  {
   "cell_type": "code",
   "execution_count": 19,
   "metadata": {},
   "outputs": [],
   "source": [
    "def standardize(x):\n",
    "    if x.size == 0:\n",
    "        raise ValueError(\"Input array x is empty.\")\n",
    "    mean = np.mean(x, axis=0)\n",
    "    std_dev = np.std(x, axis=0)\n",
    "    if np.any(std_dev == 0):\n",
    "        raise ValueError(\"Standard deviation is zero for one or more features, cannot standardize.\")\n",
    "    x_std = (x - mean) / std_dev\n",
    "    return x_std\n"
   ]
  },
  {
   "cell_type": "markdown",
   "metadata": {},
   "source": [
    "Covariance"
   ]
  },
  {
   "cell_type": "code",
   "execution_count": 20,
   "metadata": {},
   "outputs": [],
   "source": [
    "def covariance_matrix(x):\n",
    "    if x.size == 0:\n",
    "        raise ValueError(\"Input array x is empty.\")\n",
    "    m = x.shape[0]\n",
    "    return (1 / (m - 1)) * x.T @ x\n"
   ]
  },
  {
   "cell_type": "markdown",
   "metadata": {},
   "source": [
    "### QR Decomposition using Givens Rotation function"
   ]
  },
  {
   "cell_type": "code",
   "execution_count": 21,
   "metadata": {},
   "outputs": [],
   "source": [
    "def givens_rotation(a, b):\n",
    "    \"\"\"Compute the cos and sin for Givens rotation.\"\"\"\n",
    "    if b == 0:\n",
    "        return 1, 0\n",
    "    else:\n",
    "        r = np.hypot(a, b)\n",
    "        c = a / r\n",
    "        s = -b / r\n",
    "        return c, s"
   ]
  },
  {
   "cell_type": "code",
   "execution_count": 22,
   "metadata": {},
   "outputs": [],
   "source": [
    "def qr_decomposition_givens(A, tol=1e-8):\n",
    "    \"\"\"\n",
    "    QR decomposition using Givens Rotations.\n",
    "    Returns the matrices Q and R.\n",
    "    \"\"\"\n",
    "    m, n = A.shape\n",
    "    Q = np.eye(m)\n",
    "    R = A.copy()\n",
    "\n",
    "    for i in range(n):\n",
    "        for j in range(i + 1, m):\n",
    "            if abs(R[j, i]) < tol:\n",
    "                continue\n",
    "            c, s = givens_rotation(R[i, i], R[j, i])\n",
    "            G = np.eye(m)\n",
    "            G[i, i], G[i, j], G[j, i], G[j, j] = c, -s, s, c\n",
    "\n",
    "            R = G @ R\n",
    "            Q = Q @ G.T\n",
    "\n",
    "    return Q, R"
   ]
  },
  {
   "cell_type": "code",
   "execution_count": 23,
   "metadata": {},
   "outputs": [],
   "source": [
    "def eigen_decomp(A, max_iter=100, tol=1e-8):\n",
    "    \"\"\"\n",
    "    Compute the eigenvalues and eigenvectors using the QR algorithm with Givens rotations.\n",
    "    \"\"\"\n",
    "    n = A.shape[0]\n",
    "    A_k = A.copy()\n",
    "    Q_total = np.eye(n)\n",
    "    \n",
    "    for _ in range(max_iter):\n",
    "        Q, R = qr_decomposition_givens(A_k)\n",
    "        A_k = R @ Q\n",
    "        Q_total = Q_total @ Q\n",
    "        \n",
    "        if np.allclose(A_k - np.diag(np.diagonal(A_k)), 0, atol=tol):\n",
    "            break\n",
    "\n",
    "    eigenvalues = np.diagonal(A_k)\n",
    "    eigenvectors = Q_total\n",
    "\n",
    "    for i in range(n):\n",
    "        eigenvectors[:, i] /= norm(eigenvectors[:, i])\n",
    "\n",
    "    return eigenvalues, eigenvectors\n"
   ]
  },
  {
   "cell_type": "code",
   "execution_count": 24,
   "metadata": {},
   "outputs": [],
   "source": [
    "# do PCA\n",
    "def pca(x, threshold):\n",
    "    x_std = standardize(x)\n",
    "    cov_matrix = covariance_matrix(x_std)\n",
    "    eigenvalues, eigenvectors = eigen_decomp(cov_matrix)\n",
    "    total_variance = np.sum(eigenvalues)\n",
    "    variance_ratio = eigenvalues / total_variance\n",
    "    cumulative_variance_ratio = np.cumsum(variance_ratio)\n",
    "    print(f\"Explained variance ratio: {cumulative_variance_ratio}\")\n",
    "    n_components = np.argmax(cumulative_variance_ratio >= threshold) + 1\n",
    "    V_k  = eigenvectors[:, :n_components]\n",
    "    Z = np.dot(X_std, V_k)\n",
    "\n",
    "    return Z, V_k, n_components"
   ]
  },
  {
   "cell_type": "code",
   "execution_count": null,
   "metadata": {},
   "outputs": [],
   "source": [
    "# Normal Equation\n",
    "def normal_equation(x, y):\n",
    "    if x.size == 0 or y.size == 0:\n",
    "        raise ValueError(\"Input arrays x and y are empty.\")\n",
    "    x = np.c_[np.ones(x.shape[0]), x]\n",
    "    return np.linalg.inv(x.T @ x) @ x.T @ y"
   ]
  },
  {
   "cell_type": "code",
   "execution_count": null,
   "metadata": {},
   "outputs": [],
   "source": []
  }
 ],
 "metadata": {
  "kernelspec": {
   "display_name": "env",
   "language": "python",
   "name": "python3"
  },
  "language_info": {
   "codemirror_mode": {
    "name": "ipython",
    "version": 3
   },
   "file_extension": ".py",
   "mimetype": "text/x-python",
   "name": "python",
   "nbconvert_exporter": "python",
   "pygments_lexer": "ipython3",
   "version": "3.12.1"
  }
 },
 "nbformat": 4,
 "nbformat_minor": 2
}
