{
 "cells": [
  {
   "cell_type": "markdown",
   "metadata": {},
   "source": [
    "Importing the necessary libraries"
   ]
  },
  {
   "cell_type": "code",
   "execution_count": 26,
   "metadata": {},
   "outputs": [],
   "source": [
    "import numpy as np\n",
    "import pandas as pd\n",
    "from numpy.linalg import norm"
   ]
  },
  {
   "cell_type": "markdown",
   "metadata": {},
   "source": [
    "Functions"
   ]
  },
  {
   "cell_type": "code",
   "execution_count": 27,
   "metadata": {},
   "outputs": [],
   "source": [
    "def standardize(x):\n",
    "    if x.size == 0:\n",
    "        raise ValueError(\"Input array x is empty.\")\n",
    "    mean = np.mean(x, axis=0)\n",
    "    std_dev = np.std(x, axis=0)\n",
    "    if np.any(std_dev == 0):\n",
    "        raise ValueError(\"Standard deviation is zero for one or more features, cannot standardize.\")\n",
    "    x_std = (x - mean) / std_dev\n",
    "    return x_std\n"
   ]
  },
  {
   "cell_type": "markdown",
   "metadata": {},
   "source": [
    "Covariance"
   ]
  },
  {
   "cell_type": "code",
   "execution_count": 28,
   "metadata": {},
   "outputs": [],
   "source": [
    "def covariance_matrix(x):\n",
    "    if x.size == 0:\n",
    "        raise ValueError(\"Input array x is empty.\")\n",
    "    m = x.shape[0]\n",
    "    return (1 / (m - 1)) * x.T @ x\n"
   ]
  },
  {
   "cell_type": "markdown",
   "metadata": {},
   "source": [
    "### QR Decomposition using Givens Rotation function"
   ]
  },
  {
   "cell_type": "code",
   "execution_count": 29,
   "metadata": {},
   "outputs": [],
   "source": [
    "def givens_rotation(a, b):\n",
    "    \"\"\"Compute the cos and sin for Givens rotation.\"\"\"\n",
    "    if b == 0:\n",
    "        return 1, 0\n",
    "    else:\n",
    "        r = np.hypot(a, b)\n",
    "        c = a / r\n",
    "        s = -b / r\n",
    "        return c, s"
   ]
  },
  {
   "cell_type": "code",
   "execution_count": 30,
   "metadata": {},
   "outputs": [],
   "source": [
    "def qr_decomposition_givens(A, tol=1e-8):\n",
    "    \"\"\"\n",
    "    QR decomposition using Givens Rotations.\n",
    "    Returns the matrices Q and R.\n",
    "    \"\"\"\n",
    "    m, n = A.shape\n",
    "    Q = np.eye(m)\n",
    "    R = A.copy()\n",
    "\n",
    "    for i in range(n):\n",
    "        for j in range(i + 1, m):\n",
    "            if abs(R[j, i]) < tol:\n",
    "                continue\n",
    "            c, s = givens_rotation(R[i, i], R[j, i])\n",
    "            G = np.eye(m)\n",
    "            G[i, i], G[i, j], G[j, i], G[j, j] = c, -s, s, c\n",
    "\n",
    "            R = G @ R\n",
    "            Q = Q @ G.T\n",
    "\n",
    "    return Q, R"
   ]
  },
  {
   "cell_type": "code",
   "execution_count": 31,
   "metadata": {},
   "outputs": [],
   "source": [
    "def qr_decomposition_givens_noQ(A, tol=1e-8):\n",
    "    m, n = A.shape\n",
    "    R = A.copy()\n",
    "\n",
    "    for i in range(n):\n",
    "        for j in range(i + 1, m):\n",
    "            if abs(R[j, i]) < tol:\n",
    "                continue\n",
    "            c, s = givens_rotation(R[i, i], R[j, i])\n",
    "            G = np.eye(m)\n",
    "            G[i, i], G[i, j], G[j, i], G[j, j] = c, -s, s, c\n",
    "\n",
    "            R = G @ R\n",
    "\n",
    "    return R"
   ]
  },
  {
   "cell_type": "code",
   "execution_count": 32,
   "metadata": {},
   "outputs": [],
   "source": [
    "def eigen_decomp(A, max_iter=100, tol=1e-8):\n",
    "    \"\"\"\n",
    "    Compute the eigenvalues and eigenvectors using the QR algorithm with Givens rotations.\n",
    "    \"\"\"\n",
    "    n = A.shape[0]\n",
    "    A_k = A.copy()\n",
    "    Q_total = np.eye(n)\n",
    "    \n",
    "    for _ in range(max_iter):\n",
    "        Q, R = qr_decomposition_givens(A_k)\n",
    "        A_k = R @ Q\n",
    "        Q_total = Q_total @ Q\n",
    "        \n",
    "        if np.allclose(A_k - np.diag(np.diagonal(A_k)), 0, atol=tol):\n",
    "            break\n",
    "\n",
    "    eigenvalues = np.diagonal(A_k)\n",
    "    eigenvectors = Q_total\n",
    "\n",
    "    for i in range(n):\n",
    "        eigenvectors[:, i] /= norm(eigenvectors[:, i])\n",
    "\n",
    "    return eigenvalues, eigenvectors\n"
   ]
  },
  {
   "cell_type": "code",
   "execution_count": 33,
   "metadata": {},
   "outputs": [],
   "source": [
    "def pca(x, threshold):\n",
    "    x_std = standardize(x)\n",
    "    cov_matrix = covariance_matrix(x_std)\n",
    "    eigenvalues, eigenvectors = eigen_decomp(cov_matrix)\n",
    "    total_variance = np.sum(eigenvalues)\n",
    "    variance_ratio = eigenvalues / total_variance\n",
    "    cumulative_variance_ratio = np.cumsum(variance_ratio)\n",
    "    print(f\"Explained variance ratio: {cumulative_variance_ratio}\")\n",
    "    n_components = np.argmax(cumulative_variance_ratio >= threshold) + 1\n",
    "    V_k  = eigenvectors[:, :n_components]\n",
    "    Z = np.dot(X_std, V_k)\n",
    "\n",
    "    return Z, V_k, n_components"
   ]
  },
  {
   "cell_type": "code",
   "execution_count": 34,
   "metadata": {},
   "outputs": [],
   "source": [
    "def normal_equation(x, y):\n",
    "    if x.size == 0 or y.size == 0:\n",
    "        raise ValueError(\"Input arrays x and y are empty.\")\n",
    "    x = np.c_[np.ones(x.shape[0]), x]\n",
    "    return np.linalg.inv(x.T @ x) @ x.T @ y"
   ]
  },
  {
   "cell_type": "code",
   "execution_count": null,
   "metadata": {},
   "outputs": [],
   "source": [
    "def qr_with_q_equation(x, y):\n",
    "    if x.size == 0 or y.size == 0:\n",
    "        raise ValueError(\"Input arrays x or y are empty.\")\n",
    "    Q, R = qr_decomposition_with_q(x)\n",
    "    QTy = Q.T @ y\n",
    "    print(\"Shape of X:\", x.shape)\n",
    "    print(\"Shape of Q:\", Q.shape)\n",
    "    print(\"Shape of R:\", R.shape)\n",
    "    print(\"Shape of y:\", y.shape)\n",
    "    print(\"Shape of QTy:\", QTy.shape)\n",
    "    return np.linalg.inv(R) @ QTy"
   ]
  },
  {
   "cell_type": "code",
   "execution_count": null,
   "metadata": {},
   "outputs": [],
   "source": [
    "def mse(y_true, y_pred):\n",
    "    if y_true.size == 0 or y_pred.size == 0:\n",
    "        raise ValueError(\"Input arrays y_true or y_pred are empty.\")\n",
    "    return np.mean((y_true - y_pred) ** 2)"
   ]
  },
  {
   "cell_type": "code",
   "execution_count": null,
   "metadata": {},
   "outputs": [],
   "source": [
    "def residual_error_norm(y, predictions):\n",
    "    residuals = y - predictions\n",
    "    norm = np.linalg.norm(residuals)\n",
    "    return norm"
   ]
  },
  {
   "cell_type": "code",
   "execution_count": null,
   "metadata": {},
   "outputs": [],
   "source": [
    "# Backwards substitution\n",
    "def back_substitution(U, b):\n",
    "    n = U.shape[0]\n",
    "    x = np.zeros(n)\n",
    "    for i in range(n - 1, -1, -1):\n",
    "        x[i] = (b[i] - U[i, i + 1:] @ x[i + 1:]) / U[i, i]\n",
    "    return x"
   ]
  },
  {
   "cell_type": "markdown",
   "metadata": {},
   "source": [
    "# Opening the dataset"
   ]
  },
  {
   "cell_type": "code",
   "execution_count": 35,
   "metadata": {},
   "outputs": [
    {
     "data": {
      "text/html": [
       "<div>\n",
       "<style scoped>\n",
       "    .dataframe tbody tr th:only-of-type {\n",
       "        vertical-align: middle;\n",
       "    }\n",
       "\n",
       "    .dataframe tbody tr th {\n",
       "        vertical-align: top;\n",
       "    }\n",
       "\n",
       "    .dataframe thead th {\n",
       "        text-align: right;\n",
       "    }\n",
       "</style>\n",
       "<table border=\"1\" class=\"dataframe\">\n",
       "  <thead>\n",
       "    <tr style=\"text-align: right;\">\n",
       "      <th></th>\n",
       "      <th>HP</th>\n",
       "      <th>Attack</th>\n",
       "      <th>Defense</th>\n",
       "      <th>Sp. Atk</th>\n",
       "      <th>Sp. Def</th>\n",
       "      <th>Speed</th>\n",
       "      <th>WinningPercentage</th>\n",
       "    </tr>\n",
       "  </thead>\n",
       "  <tbody>\n",
       "    <tr>\n",
       "      <th>0</th>\n",
       "      <td>70</td>\n",
       "      <td>90</td>\n",
       "      <td>45</td>\n",
       "      <td>15</td>\n",
       "      <td>45</td>\n",
       "      <td>50</td>\n",
       "      <td>36.290323</td>\n",
       "    </tr>\n",
       "    <tr>\n",
       "      <th>1</th>\n",
       "      <td>40</td>\n",
       "      <td>27</td>\n",
       "      <td>60</td>\n",
       "      <td>37</td>\n",
       "      <td>50</td>\n",
       "      <td>66</td>\n",
       "      <td>36.220472</td>\n",
       "    </tr>\n",
       "    <tr>\n",
       "      <th>2</th>\n",
       "      <td>75</td>\n",
       "      <td>75</td>\n",
       "      <td>60</td>\n",
       "      <td>83</td>\n",
       "      <td>60</td>\n",
       "      <td>60</td>\n",
       "      <td>39.344262</td>\n",
       "    </tr>\n",
       "    <tr>\n",
       "      <th>3</th>\n",
       "      <td>85</td>\n",
       "      <td>115</td>\n",
       "      <td>80</td>\n",
       "      <td>105</td>\n",
       "      <td>80</td>\n",
       "      <td>50</td>\n",
       "      <td>30.630631</td>\n",
       "    </tr>\n",
       "    <tr>\n",
       "      <th>4</th>\n",
       "      <td>83</td>\n",
       "      <td>106</td>\n",
       "      <td>65</td>\n",
       "      <td>86</td>\n",
       "      <td>65</td>\n",
       "      <td>85</td>\n",
       "      <td>66.406250</td>\n",
       "    </tr>\n",
       "    <tr>\n",
       "      <th>...</th>\n",
       "      <td>...</td>\n",
       "      <td>...</td>\n",
       "      <td>...</td>\n",
       "      <td>...</td>\n",
       "      <td>...</td>\n",
       "      <td>...</td>\n",
       "      <td>...</td>\n",
       "    </tr>\n",
       "    <tr>\n",
       "      <th>195</th>\n",
       "      <td>50</td>\n",
       "      <td>65</td>\n",
       "      <td>64</td>\n",
       "      <td>44</td>\n",
       "      <td>48</td>\n",
       "      <td>43</td>\n",
       "      <td>21.969697</td>\n",
       "    </tr>\n",
       "    <tr>\n",
       "      <th>196</th>\n",
       "      <td>60</td>\n",
       "      <td>85</td>\n",
       "      <td>69</td>\n",
       "      <td>65</td>\n",
       "      <td>79</td>\n",
       "      <td>80</td>\n",
       "      <td>57.600000</td>\n",
       "    </tr>\n",
       "    <tr>\n",
       "      <th>197</th>\n",
       "      <td>45</td>\n",
       "      <td>50</td>\n",
       "      <td>43</td>\n",
       "      <td>40</td>\n",
       "      <td>38</td>\n",
       "      <td>62</td>\n",
       "      <td>40.441176</td>\n",
       "    </tr>\n",
       "    <tr>\n",
       "      <th>198</th>\n",
       "      <td>55</td>\n",
       "      <td>45</td>\n",
       "      <td>50</td>\n",
       "      <td>45</td>\n",
       "      <td>65</td>\n",
       "      <td>80</td>\n",
       "      <td>55.462185</td>\n",
       "    </tr>\n",
       "    <tr>\n",
       "      <th>199</th>\n",
       "      <td>70</td>\n",
       "      <td>130</td>\n",
       "      <td>100</td>\n",
       "      <td>55</td>\n",
       "      <td>80</td>\n",
       "      <td>65</td>\n",
       "      <td>60.800000</td>\n",
       "    </tr>\n",
       "  </tbody>\n",
       "</table>\n",
       "<p>200 rows × 7 columns</p>\n",
       "</div>"
      ],
      "text/plain": [
       "     HP  Attack  Defense  Sp. Atk  Sp. Def  Speed  WinningPercentage\n",
       "0    70      90       45       15       45     50          36.290323\n",
       "1    40      27       60       37       50     66          36.220472\n",
       "2    75      75       60       83       60     60          39.344262\n",
       "3    85     115       80      105       80     50          30.630631\n",
       "4    83     106       65       86       65     85          66.406250\n",
       "..   ..     ...      ...      ...      ...    ...                ...\n",
       "195  50      65       64       44       48     43          21.969697\n",
       "196  60      85       69       65       79     80          57.600000\n",
       "197  45      50       43       40       38     62          40.441176\n",
       "198  55      45       50       45       65     80          55.462185\n",
       "199  70     130      100       55       80     65          60.800000\n",
       "\n",
       "[200 rows x 7 columns]"
      ]
     },
     "execution_count": 35,
     "metadata": {},
     "output_type": "execute_result"
    }
   ],
   "source": [
    "df = pd.read_csv(\"pokindex_data.csv\")\n",
    "df"
   ]
  },
  {
   "cell_type": "code",
   "execution_count": 36,
   "metadata": {},
   "outputs": [
    {
     "data": {
      "text/html": [
       "<div>\n",
       "<style scoped>\n",
       "    .dataframe tbody tr th:only-of-type {\n",
       "        vertical-align: middle;\n",
       "    }\n",
       "\n",
       "    .dataframe tbody tr th {\n",
       "        vertical-align: top;\n",
       "    }\n",
       "\n",
       "    .dataframe thead th {\n",
       "        text-align: right;\n",
       "    }\n",
       "</style>\n",
       "<table border=\"1\" class=\"dataframe\">\n",
       "  <thead>\n",
       "    <tr style=\"text-align: right;\">\n",
       "      <th></th>\n",
       "      <th>HP</th>\n",
       "      <th>Attack</th>\n",
       "      <th>Defense</th>\n",
       "      <th>Sp. Atk</th>\n",
       "      <th>Sp. Def</th>\n",
       "      <th>Speed</th>\n",
       "    </tr>\n",
       "  </thead>\n",
       "  <tbody>\n",
       "    <tr>\n",
       "      <th>0</th>\n",
       "      <td>70</td>\n",
       "      <td>90</td>\n",
       "      <td>45</td>\n",
       "      <td>15</td>\n",
       "      <td>45</td>\n",
       "      <td>50</td>\n",
       "    </tr>\n",
       "    <tr>\n",
       "      <th>1</th>\n",
       "      <td>40</td>\n",
       "      <td>27</td>\n",
       "      <td>60</td>\n",
       "      <td>37</td>\n",
       "      <td>50</td>\n",
       "      <td>66</td>\n",
       "    </tr>\n",
       "    <tr>\n",
       "      <th>2</th>\n",
       "      <td>75</td>\n",
       "      <td>75</td>\n",
       "      <td>60</td>\n",
       "      <td>83</td>\n",
       "      <td>60</td>\n",
       "      <td>60</td>\n",
       "    </tr>\n",
       "    <tr>\n",
       "      <th>3</th>\n",
       "      <td>85</td>\n",
       "      <td>115</td>\n",
       "      <td>80</td>\n",
       "      <td>105</td>\n",
       "      <td>80</td>\n",
       "      <td>50</td>\n",
       "    </tr>\n",
       "    <tr>\n",
       "      <th>4</th>\n",
       "      <td>83</td>\n",
       "      <td>106</td>\n",
       "      <td>65</td>\n",
       "      <td>86</td>\n",
       "      <td>65</td>\n",
       "      <td>85</td>\n",
       "    </tr>\n",
       "    <tr>\n",
       "      <th>...</th>\n",
       "      <td>...</td>\n",
       "      <td>...</td>\n",
       "      <td>...</td>\n",
       "      <td>...</td>\n",
       "      <td>...</td>\n",
       "      <td>...</td>\n",
       "    </tr>\n",
       "    <tr>\n",
       "      <th>195</th>\n",
       "      <td>50</td>\n",
       "      <td>65</td>\n",
       "      <td>64</td>\n",
       "      <td>44</td>\n",
       "      <td>48</td>\n",
       "      <td>43</td>\n",
       "    </tr>\n",
       "    <tr>\n",
       "      <th>196</th>\n",
       "      <td>60</td>\n",
       "      <td>85</td>\n",
       "      <td>69</td>\n",
       "      <td>65</td>\n",
       "      <td>79</td>\n",
       "      <td>80</td>\n",
       "    </tr>\n",
       "    <tr>\n",
       "      <th>197</th>\n",
       "      <td>45</td>\n",
       "      <td>50</td>\n",
       "      <td>43</td>\n",
       "      <td>40</td>\n",
       "      <td>38</td>\n",
       "      <td>62</td>\n",
       "    </tr>\n",
       "    <tr>\n",
       "      <th>198</th>\n",
       "      <td>55</td>\n",
       "      <td>45</td>\n",
       "      <td>50</td>\n",
       "      <td>45</td>\n",
       "      <td>65</td>\n",
       "      <td>80</td>\n",
       "    </tr>\n",
       "    <tr>\n",
       "      <th>199</th>\n",
       "      <td>70</td>\n",
       "      <td>130</td>\n",
       "      <td>100</td>\n",
       "      <td>55</td>\n",
       "      <td>80</td>\n",
       "      <td>65</td>\n",
       "    </tr>\n",
       "  </tbody>\n",
       "</table>\n",
       "<p>200 rows × 6 columns</p>\n",
       "</div>"
      ],
      "text/plain": [
       "     HP  Attack  Defense  Sp. Atk  Sp. Def  Speed\n",
       "0    70      90       45       15       45     50\n",
       "1    40      27       60       37       50     66\n",
       "2    75      75       60       83       60     60\n",
       "3    85     115       80      105       80     50\n",
       "4    83     106       65       86       65     85\n",
       "..   ..     ...      ...      ...      ...    ...\n",
       "195  50      65       64       44       48     43\n",
       "196  60      85       69       65       79     80\n",
       "197  45      50       43       40       38     62\n",
       "198  55      45       50       45       65     80\n",
       "199  70     130      100       55       80     65\n",
       "\n",
       "[200 rows x 6 columns]"
      ]
     },
     "execution_count": 36,
     "metadata": {},
     "output_type": "execute_result"
    }
   ],
   "source": [
    "X_df = df.iloc[:, :-1]\n",
    "X_df"
   ]
  },
  {
   "cell_type": "code",
   "execution_count": 37,
   "metadata": {},
   "outputs": [
    {
     "data": {
      "text/plain": [
       "array([[ 0.15290907,  0.4052833 , -0.92270684, -1.78806664, -1.04526282,\n",
       "        -0.64904062],\n",
       "       [-1.18060024, -1.59650799, -0.433985  , -1.11071036, -0.85255212,\n",
       "        -0.09489708],\n",
       "       [ 0.37516062, -0.07133367, -0.433985  ,  0.30558005, -0.46713073,\n",
       "        -0.30270091],\n",
       "       ...,\n",
       "       [-0.95834869, -0.8656953 , -0.98786975, -1.01834359, -1.31505779,\n",
       "        -0.23343296],\n",
       "       [-0.51384558, -1.02456762, -0.75979956, -0.86439898, -0.27442003,\n",
       "         0.38997851],\n",
       "       [ 0.15290907,  1.6762619 ,  0.86927325, -0.55650976,  0.30371206,\n",
       "        -0.12953105]])"
      ]
     },
     "execution_count": 37,
     "metadata": {},
     "output_type": "execute_result"
    }
   ],
   "source": [
    "X_std = standardize(X_df.values)\n",
    "X_std"
   ]
  },
  {
   "cell_type": "code",
   "execution_count": 38,
   "metadata": {},
   "outputs": [
    {
     "data": {
      "text/plain": [
       "array([[ 1.00502513,  0.55595839,  0.40771065,  0.42310765,  0.41420563,\n",
       "         0.25004053],\n",
       "       [ 0.55595839,  1.00502513,  0.49285226,  0.45023169,  0.28881028,\n",
       "         0.39254772],\n",
       "       [ 0.40771065,  0.49285226,  1.00502513,  0.26511939,  0.59231642,\n",
       "        -0.05218178],\n",
       "       [ 0.42310765,  0.45023169,  0.26511939,  1.00502513,  0.52750921,\n",
       "         0.50622821],\n",
       "       [ 0.41420563,  0.28881028,  0.59231642,  0.52750921,  1.00502513,\n",
       "         0.19389947],\n",
       "       [ 0.25004053,  0.39254772, -0.05218178,  0.50622821,  0.19389947,\n",
       "         1.00502513]])"
      ]
     },
     "execution_count": 38,
     "metadata": {},
     "output_type": "execute_result"
    }
   ],
   "source": [
    "cov_matrix = covariance_matrix(X_std)\n",
    "cov_matrix"
   ]
  },
  {
   "cell_type": "code",
   "execution_count": 39,
   "metadata": {},
   "outputs": [
    {
     "name": "stdout",
     "output_type": "stream",
     "text": [
      "Q:  [[ 0.72940987 -0.54500747 -0.24840545 -0.30687205 -0.12216702  0.01129624]\n",
      " [ 0.40349392  0.75994714 -0.16466594 -0.32524921  0.14040878 -0.32719482]\n",
      " [ 0.29590123  0.18570912  0.78317796 -0.10122822 -0.36807509  0.34476142]\n",
      " [ 0.3070758   0.09953746 -0.10013326  0.78853923 -0.41568206 -0.30196751]\n",
      " [ 0.30061505 -0.13379389  0.38231174  0.32291456  0.79276163 -0.11323736]\n",
      " [ 0.18147012  0.25129826 -0.37632858  0.25244288  0.16917076  0.81850378]]\n",
      "R:  [[ 1.37786061e+00  1.25319031e+00  1.04364078e+00  1.12779520e+00\n",
      "   1.09322398e+00  7.21453556e-01]\n",
      " [ 2.20613268e-17  6.57112083e-01  2.73006452e-01  3.17464948e-01\n",
      "   7.05012515e-02  4.29358093e-01]\n",
      " [-1.15492757e-17  1.44232748e-17  8.24219748e-01 -6.10760271e-02\n",
      "   5.71882787e-01 -5.22398205e-01]\n",
      " [ 4.58149373e-17 -1.45547223e-17 -1.75052304e-18  7.87520880e-01\n",
      "   5.08444916e-01  5.16381194e-01]\n",
      " [-4.59659157e-19 -1.77982212e-17  2.41815066e-17  1.11746041e-17\n",
      "   3.82203678e-01  1.57084194e-01]\n",
      " [-1.99857047e-17 -2.02497546e-17 -1.26258174e-17 -2.09221443e-19\n",
      "  -5.97482617e-18  5.04190394e-01]]\n"
     ]
    }
   ],
   "source": [
    "# QR decomposition with Givens rotations\n",
    "Q, R = qr_decomposition_givens(cov_matrix)\n",
    "print(\"Q: \", Q)\n",
    "print(\"R: \", R)\n"
   ]
  },
  {
   "cell_type": "code",
   "execution_count": 40,
   "metadata": {},
   "outputs": [
    {
     "name": "stdout",
     "output_type": "stream",
     "text": [
      "Eigenvalues:  [2.94914287 1.20231921 0.77529324 0.51470719 0.37558598 0.21310226]\n",
      "Eigenvectors:  [[ 0.43354602 -0.06079579  0.39576924 -0.77440083  0.1765609   0.14435383]\n",
      " [ 0.44686717  0.06341416  0.57662134  0.39600227 -0.21287498 -0.51152972]\n",
      " [ 0.38639019 -0.57758995  0.0344706   0.41114813  0.10449576  0.57960513]\n",
      " [ 0.44243289  0.30046    -0.38034996 -0.09211419 -0.71540399  0.22141125]\n",
      " [ 0.42577579 -0.27598308 -0.6008831  -0.07390754  0.3132315  -0.52717315]\n",
      " [ 0.29328879  0.70159069 -0.06292644  0.24595817  0.55015842  0.2337151 ]]\n"
     ]
    }
   ],
   "source": [
    "eigenvalues, eigenvectors = eigen_decomp(cov_matrix)\n",
    "print(\"Eigenvalues: \", eigenvalues)\n",
    "print(\"Eigenvectors: \", eigenvectors)"
   ]
  }
 ],
 "metadata": {
  "kernelspec": {
   "display_name": "env",
   "language": "python",
   "name": "python3"
  },
  "language_info": {
   "codemirror_mode": {
    "name": "ipython",
    "version": 3
   },
   "file_extension": ".py",
   "mimetype": "text/x-python",
   "name": "python",
   "nbconvert_exporter": "python",
   "pygments_lexer": "ipython3",
   "version": "3.12.1"
  }
 },
 "nbformat": 4,
 "nbformat_minor": 2
}
